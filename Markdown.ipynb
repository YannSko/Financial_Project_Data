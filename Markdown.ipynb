{
 "cells": [
  {
   "cell_type": "markdown",
   "id": "4773eda6-e49a-4adb-a5a3-5bf71b43dfc1",
   "metadata": {},
   "source": [
    "# My Data Science Notebook"
   ]
  },
  {
   "cell_type": "markdown",
   "id": "e3172838-c0a9-408d-a059-19b84519c029",
   "metadata": {},
   "source": [
    "## Introduction\n",
    "Welcome to my Data Science notebook! "
   ]
  },
  {
   "cell_type": "markdown",
   "id": "fd09ff7b-f558-4caf-b895-1e6eb6f7d388",
   "metadata": {},
   "source": [
    "## Data Science Languages\n",
    "- Python\n",
    "- R\n",
    "- SQL"
   ]
  },
  {
   "cell_type": "markdown",
   "id": "eef10d7b-2acc-4e7c-be68-b7076368a080",
   "metadata": {},
   "source": [
    "## Data Science Libraries\n",
    "- NumPy\n",
    "- Pandas\n",
    "- Matplotlib\n",
    "- Scikit-learn\n",
    "- TensorFlow"
   ]
  },
  {
   "cell_type": "markdown",
   "id": "e1652ed4-ed15-4f20-b9e8-b703fb91c86a",
   "metadata": {},
   "source": [
    "## Data Science Tools\n",
    "| Tool            | Description                                       |\n",
    "|----------------|---------------------------------------------------|\n",
    "| Jupyter Notebook | Interactive development environment for data science |\n",
    "| Anaconda | Open-source distribution of Python and R for scientific computing |\n",
    "| Git | Version control system for managing code and collaboration |"
   ]
  },
  {
   "cell_type": "markdown",
   "id": "44062b7d-492b-4840-b698-e70a6127c390",
   "metadata": {},
   "source": [
    "## Arithmetic Expression Examples\n",
    " some  arithmetic expressions:"
   ]
  },
  {
   "cell_type": "code",
   "execution_count": 3,
   "id": "3a736977-257f-4fe4-879d-871a6356d89f",
   "metadata": {},
   "outputs": [
    {
     "name": "stdout",
     "output_type": "stream",
     "text": [
      "50\n",
      "10\n"
     ]
    }
   ],
   "source": [
    "# multiplication\n",
    "x = 5\n",
    "y = 10\n",
    "z = x * y\n",
    "print(z)\n",
    "\n",
    "# addition\n",
    "a = 3\n",
    "b = 7\n",
    "c = a + b\n",
    "print(c)"
   ]
  },
  {
   "cell_type": "code",
   "execution_count": 4,
   "id": "3c008a83-360e-485a-aa9e-a012b4917721",
   "metadata": {},
   "outputs": [
    {
     "name": "stdout",
     "output_type": "stream",
     "text": [
      "1.5\n"
     ]
    }
   ],
   "source": [
    "minutes = 90\n",
    "hours = minutes / 60\n",
    "print(hours)"
   ]
  },
  {
   "cell_type": "markdown",
   "id": "828e19e1-ea62-4240-905f-091c316cdf89",
   "metadata": {},
   "source": [
    "## Objectives\n",
    "- discover  data science languages and libraries\n",
    "- Learn about data science tools like Jupyter Notebook \n",
    "- Practice  Python code "
   ]
  },
  {
   "cell_type": "code",
   "execution_count": null,
   "id": "c9cde3ce-913a-4760-991a-e77b4811cc8b",
   "metadata": {},
   "outputs": [],
   "source": []
  }
 ],
 "metadata": {
  "kernelspec": {
   "display_name": "Python",
   "language": "python",
   "name": "conda-env-python-py"
  },
  "language_info": {
   "codemirror_mode": {
    "name": "ipython",
    "version": 3
   },
   "file_extension": ".py",
   "mimetype": "text/x-python",
   "name": "python",
   "nbconvert_exporter": "python",
   "pygments_lexer": "ipython3",
   "version": "3.7.12"
  }
 },
 "nbformat": 4,
 "nbformat_minor": 5
}
